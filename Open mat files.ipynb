{
 "cells": [
  {
   "cell_type": "code",
   "execution_count": null,
   "metadata": {},
   "outputs": [],
   "source": [
    "import scipy.io\n",
    "import numpy as np"
   ]
  },
  {
   "cell_type": "code",
   "execution_count": null,
   "metadata": {},
   "outputs": [],
   "source": [
    "mat = scipy.io.loadmat('rasti.mat')"
   ]
  },
  {
   "cell_type": "code",
   "execution_count": null,
   "metadata": {},
   "outputs": [],
   "source": [
    "mat"
   ]
  },
  {
   "cell_type": "code",
   "execution_count": null,
   "metadata": {},
   "outputs": [],
   "source": [
    "# Printing the keys of the mat dictionary\n",
    "print(mat.keys())"
   ]
  },
  {
   "cell_type": "code",
   "execution_count": null,
   "metadata": {},
   "outputs": [],
   "source": [
    "# Accessing the data stored under the 'result' key\n",
    "data = mat['result']"
   ]
  },
  {
   "cell_type": "code",
   "execution_count": null,
   "metadata": {},
   "outputs": [],
   "source": [
    "print(data)"
   ]
  },
  {
   "cell_type": "code",
   "execution_count": null,
   "metadata": {},
   "outputs": [],
   "source": [
    "print(data.shape)"
   ]
  },
  {
   "cell_type": "code",
   "execution_count": null,
   "metadata": {},
   "outputs": [],
   "source": [
    "data[0, 0]"
   ]
  },
  {
   "cell_type": "code",
   "execution_count": null,
   "metadata": {},
   "outputs": [],
   "source": [
    "# Accessing the data stored under the 'result' key\n",
    "result_data = mat['result']\n",
    "\n",
    "# Accessing the 'best_solution' field within the 'result' dictionary\n",
    "best_solution = result_data['best_solution']\n",
    "\n",
    "# Now, `best_solution` contains the data stored in the 'best_solution' field.\n",
    "# You can print it or use it further as needed.\n",
    "print(best_solution)\n"
   ]
  },
  {
   "cell_type": "code",
   "execution_count": null,
   "metadata": {},
   "outputs": [],
   "source": [
    "best_solution.shape"
   ]
  },
  {
   "cell_type": "code",
   "execution_count": null,
   "metadata": {},
   "outputs": [],
   "source": [
    "# Flattening the array to convert it into a vector\n",
    "best_solution_vector = best_solution.flatten()"
   ]
  },
  {
   "cell_type": "code",
   "execution_count": null,
   "metadata": {},
   "outputs": [],
   "source": [
    "best_solution_vector.shape"
   ]
  },
  {
   "cell_type": "code",
   "execution_count": null,
   "metadata": {},
   "outputs": [],
   "source": [
    "np.save('best_solution_vector.npy', best_solution_vector)"
   ]
  },
  {
   "cell_type": "code",
   "execution_count": null,
   "metadata": {},
   "outputs": [],
   "source": [
    "# Accessing the data stored under the 'result' key\n",
    "result_data = mat['result']"
   ]
  },
  {
   "cell_type": "code",
   "execution_count": null,
   "metadata": {},
   "outputs": [],
   "source": [
    "# Accessing the 'best_solution' field within the 'result' dictionary\n",
    "best_solution_array = result_data['best_solution']"
   ]
  },
  {
   "cell_type": "code",
   "execution_count": null,
   "metadata": {},
   "outputs": [],
   "source": [
    "# Extracting the inner array\n",
    "best_solution_inner_array = best_solution_array[0]"
   ]
  },
  {
   "cell_type": "code",
   "execution_count": null,
   "metadata": {},
   "outputs": [],
   "source": [
    "# Extracting the actual data from the inner array\n",
    "best_solution_data = best_solution_inner_array[0]"
   ]
  },
  {
   "cell_type": "code",
   "execution_count": null,
   "metadata": {},
   "outputs": [],
   "source": [
    "best_solution_data.size"
   ]
  },
  {
   "cell_type": "code",
   "execution_count": null,
   "metadata": {},
   "outputs": [],
   "source": [
    "# Reshape the data to a 10x10 matrix\n",
    "best_solution_matrix = best_solution_data.reshape(300, 50)"
   ]
  },
  {
   "cell_type": "code",
   "execution_count": null,
   "metadata": {},
   "outputs": [],
   "source": [
    "# Check the size of the resized matrix\n",
    "print(\"Size of the resized matrix:\", best_solution_matrix.shape)"
   ]
  },
  {
   "cell_type": "code",
   "execution_count": null,
   "metadata": {},
   "outputs": [],
   "source": [
    "# Save the matrix as a binary file\n",
    "np.save('best_solution_matrix_rasti.npy', best_solution_matrix)"
   ]
  },
  {
   "cell_type": "code",
   "execution_count": null,
   "metadata": {},
   "outputs": [],
   "source": [
    "# Load the matrix from the binary file\n",
    "best_solution_matrix = np.load('best_solution_matrix.npy')\n",
    "\n",
    "# Print the matrix\n",
    "print(best_solution_matrix)"
   ]
  },
  {
   "cell_type": "code",
   "execution_count": null,
   "metadata": {},
   "outputs": [],
   "source": [
    "best_solution_matrix.shape"
   ]
  },
  {
   "cell_type": "code",
   "execution_count": null,
   "metadata": {},
   "outputs": [],
   "source": [
    "def process_mat_file(file_path):\n",
    "    # Load .mat file\n",
    "    mat = scipy.io.loadmat(file_path)\n",
    "    \n",
    "    # Accessing the data stored under the 'result' key\n",
    "    result_data = mat['result']\n",
    "    \n",
    "    # Accessing the 'best_solution' field within the 'result' dictionary\n",
    "    best_solution_array = result_data['best_solution']\n",
    "    \n",
    "    # Extracting the inner array\n",
    "    best_solution_inner_array = best_solution_array[0]\n",
    "    \n",
    "    # Extracting the actual data from the inner array\n",
    "    best_solution_data = best_solution_inner_array[0]\n",
    "    \n",
    "    # Reshape the data to a 10x10 matrix\n",
    "    best_solution_matrix = best_solution_data.reshape(20, 20)\n",
    "    \n",
    "    # Check the size of the resized matrix\n",
    "    print(\"Size of the resized matrix:\", best_solution_matrix.shape)\n",
    "    \n",
    "    # Save the matrix as a binary file\n",
    "    np.save('best_solution_matrix_NEW_S_file7_20tanewVersion800.npy', best_solution_matrix)\n",
    "\n",
    "# Example usage:\n",
    "process_mat_file('NEW_S_file7_20tanewVersion800.mat')"
   ]
  },
  {
   "cell_type": "code",
   "execution_count": null,
   "metadata": {},
   "outputs": [],
   "source": []
  }
 ],
 "metadata": {
  "kernelspec": {
   "display_name": "Python 3",
   "language": "python",
   "name": "python3"
  },
  "language_info": {
   "codemirror_mode": {
    "name": "ipython",
    "version": 3
   },
   "file_extension": ".py",
   "mimetype": "text/x-python",
   "name": "python",
   "nbconvert_exporter": "python",
   "pygments_lexer": "ipython3",
   "version": "3.9.6"
  }
 },
 "nbformat": 4,
 "nbformat_minor": 2
}
